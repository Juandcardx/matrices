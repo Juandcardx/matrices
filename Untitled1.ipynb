{
  "nbformat": 4,
  "nbformat_minor": 0,
  "metadata": {
    "colab": {
      "provenance": [],
      "authorship_tag": "ABX9TyO0kdcII4Kf0NRWM6vnluwd",
      "include_colab_link": true
    },
    "kernelspec": {
      "name": "python3",
      "display_name": "Python 3"
    },
    "language_info": {
      "name": "python"
    }
  },
  "cells": [
    {
      "cell_type": "markdown",
      "metadata": {
        "id": "view-in-github",
        "colab_type": "text"
      },
      "source": [
        "<a href=\"https://colab.research.google.com/github/Juandcardx/matrices/blob/main/Untitled1.ipynb\" target=\"_parent\"><img src=\"https://colab.research.google.com/assets/colab-badge.svg\" alt=\"Open In Colab\"/></a>"
      ]
    },
    {
      "cell_type": "code",
      "source": [
        "# matrices\n",
        "\n",
        "M = [[1,2,3],[4,5,6],[7,8,9]]\n",
        "for i in range(3):\n",
        "  print()\n",
        "   for j in range(3)\n",
        "   print(M[i],[j], end = \" \")"
      ],
      "metadata": {
        "id": "vxuDao6Ll2x_"
      },
      "execution_count": null,
      "outputs": []
    },
    {
      "cell_type": "code",
      "source": [
        "import random\n",
        "\n",
        "m = int(input(\"No. de filas de la matriz: \"))\n",
        "n = int(input(\"No. de columnas de la matriz: \"))\n",
        "\n",
        "M = []\n",
        "for i in range(m):\n",
        "  M.append([])\n",
        "  for j in range(n):\n",
        "    M[i].append(random.randint(0,1))\n",
        "\n",
        "# mostrar matriz\n",
        "for k in range(m):\n",
        "  print()\n",
        "  for j in range (n):\n",
        "    print(M[k][j], end = \"\\t\")\n",
        "\n",
        "\n",
        "# suma ellementos de la matriz.\n",
        "suma = 0\n",
        "for i in range(m):\n",
        "  for j in range(n):\n",
        "    sumas = suma + M[i][j]\n",
        "\n",
        "\n",
        "\n",
        "\n",
        "\n"
      ],
      "metadata": {
        "colab": {
          "base_uri": "https://localhost:8080/"
        },
        "id": "mmz59GUmMmLr",
        "outputId": "aa64610b-b747-4e61-df6b-c940c3c56de0"
      },
      "execution_count": 3,
      "outputs": [
        {
          "output_type": "stream",
          "name": "stdout",
          "text": [
            "No. de filas de la matriz: 2\n",
            "No. de columnas de la matriz: 2\n",
            "\n",
            "1\t1\t\n",
            "0\t1\t"
          ]
        }
      ]
    },
    {
      "cell_type": "code",
      "source": [
        "import random\n",
        "\n",
        "n = int(input(\"Ingrese el tamaño de la matriz cuadrada: \"))\n",
        "\n",
        "# Generar matriz aleatoria\n",
        "M = []\n",
        "for i in range(n):\n",
        "    M.append([])\n",
        "    for j in range(n):\n",
        "        M[i].append(random.randint(0, 1))\n",
        "\n",
        "# Mostrar matriz\n",
        "for i in range(n):\n",
        "    for j in range(n):\n",
        "        print(M[i][j], end=\"\\t\")\n",
        "    print()\n",
        "\n",
        "# Sumar elementos de la diagonal principal\n",
        "suma_diagonal = 0\n",
        "for i in range(n):\n",
        "    suma_diagonal += M[i][i]\n",
        "\n",
        "print(\"\\nLa suma de los elementos de la diagonal principal es:\", suma_diagonal)\n",
        "\n",
        "\n",
        "\n",
        "\n",
        "\n"
      ],
      "metadata": {
        "colab": {
          "base_uri": "https://localhost:8080/"
        },
        "outputId": "51d5a1d2-c921-4e68-8403-5e248f0e0859",
        "id": "huv-bCuzRTXd"
      },
      "execution_count": 12,
      "outputs": [
        {
          "output_type": "stream",
          "name": "stdout",
          "text": [
            "Ingrese el tamaño de la matriz cuadrada: 3\n",
            "1\t0\t0\t\n",
            "1\t1\t0\t\n",
            "0\t0\t0\t\n",
            "\n",
            "La suma de los elementos de la diagonal principal es: 2\n"
          ]
        }
      ]
    },
    {
      "cell_type": "markdown",
      "source": [
        "# suma de los elementos de la diagonal secundaria "
      ],
      "metadata": {
        "id": "rpJA5NOUS302"
      }
    },
    {
      "cell_type": "code",
      "source": [],
      "metadata": {
        "id": "3wBYGWGTUUPS"
      },
      "execution_count": null,
      "outputs": []
    },
    {
      "cell_type": "code",
      "source": [
        "import random\n",
        "\n",
        "m = int(input(\"No. de filas de la matriz: \"))\n",
        "n = int(input(\"No. de columnas de la matriz: \"))\n",
        "\n",
        "M = []\n",
        "for i in range(m):\n",
        "    M.append([])\n",
        "    for j in range(n):\n",
        "        M[i].append(random.randint(1,9))\n",
        "\n",
        "# Mostrar matriz\n",
        "for k in range(m):\n",
        "    print()\n",
        "    for j in range(n):\n",
        "        print(M[k][j], end=\"\\t\")\n",
        "\n",
        "# Sumar elementos de la matriz\n",
        "suma = 0\n",
        "for i in range(m):\n",
        "    for j in range(n):\n",
        "        if i + j == n - 1:\n",
        "            suma += M[i][j]\n",
        "            \n",
        "print(\"\\n\\nSuma de los elementos de la diagonal secundaria: \", suma)\n",
        "\n",
        "\n",
        "\n"
      ],
      "metadata": {
        "id": "mS7RMDcOUbne"
      },
      "execution_count": null,
      "outputs": []
    },
    {
      "cell_type": "markdown",
      "source": [
        "# suma de lo elementos de la triangular inferior/sup"
      ],
      "metadata": {
        "id": "qXI5qXNCS-gI"
      }
    },
    {
      "cell_type": "code",
      "source": [
        "import random\n",
        "\n",
        "m = int(input(\"No. de filas de la matriz: \"))\n",
        "n = int(input(\"No. de columnas de la matriz: \"))\n",
        "\n",
        "M = []\n",
        "for i in range(m):\n",
        "    M.append([])\n",
        "    for j in range(n):\n",
        "        M[i].append(random.randint(0, 1))\n",
        "\n",
        "# Mostrar matriz\n",
        "for k in range(m):\n",
        "    print()\n",
        "    for j in range(n):\n",
        "        print(M[k][j], end=\"\\t\")\n",
        "\n",
        "# Sumar elementos de la triangular inferior\n",
        "suma = 0\n",
        "for i in range(m):\n",
        "    for j in range(i + 1):\n",
        "        suma += M[i][j]\n",
        "\n",
        "print(\"\\n\\nSuma de los elementos de la triangular inferior: \", suma)\n"
      ],
      "metadata": {
        "id": "6ZLD-M-gUVKi"
      },
      "execution_count": null,
      "outputs": []
    },
    {
      "cell_type": "markdown",
      "source": [
        "# calcular la suma de la trignolas superior"
      ],
      "metadata": {
        "id": "_6va3IN5YIF6"
      }
    },
    {
      "cell_type": "code",
      "source": [
        "import random\n",
        "\n",
        "m = int(input(\"No. de filas de la matriz: \"))\n",
        "n = int(input(\"No. de columnas de la matriz: \"))\n",
        "\n",
        "M = []\n",
        "for i in range(m):\n",
        "    M.append([])\n",
        "    for j in range(n):\n",
        "        M[i].append(random.randint(1,9))\n",
        "\n",
        "# Mostrar matriz\n",
        "for k in range(m):\n",
        "    print()\n",
        "    for j in range(n):\n",
        "        print(M[k][j], end=\"\\t\")\n",
        "\n",
        "# Sumar elementos de la triangular superior\n",
        "suma = 0\n",
        "for i in range(m):\n",
        "    for j in range(n):\n",
        "        if i <= j:\n",
        "            suma += M[i][j]\n",
        "\n",
        "print(\"\\n\\nSuma de los elementos de la triangular superior: \", suma)"
      ],
      "metadata": {
        "id": "NmTcY2rBYPcr"
      },
      "execution_count": null,
      "outputs": []
    },
    {
      "cell_type": "markdown",
      "source": [
        "suma de los elementos perifericos"
      ],
      "metadata": {
        "id": "eUbk9CtcTG1m"
      }
    },
    {
      "cell_type": "code",
      "source": [
        "import random\n",
        "\n",
        "m = int(input(\"No. de filas de la matriz: \"))\n",
        "n = int(input(\"No. de columnas de la matriz: \"))\n",
        "\n",
        "M = []\n",
        "for i in range(m):\n",
        "    M.append([])\n",
        "    for j in range(n):\n",
        "        M[i].append(random.randint(0, 1))\n",
        "\n",
        "# Mostrar matriz\n",
        "for k in range(m):\n",
        "    print()\n",
        "    for j in range(n):\n",
        "        print(M[k][j], end=\"\\t\")\n",
        "\n",
        "# Sumar elementos periféricos\n",
        "suma_perifericos = 0\n",
        "for i in range(m):\n",
        "    for j in range(n):\n",
        "        if i == 0 or i == m-1 or j == 0 or j == n-1:\n",
        "            suma_perifericos += M[i][j]\n",
        "\n",
        "print(\"\\n\\nSuma de los elementos periféricos: \", suma_perifericos)"
      ],
      "metadata": {
        "id": "7j2JHvtQYc_I"
      },
      "execution_count": null,
      "outputs": []
    }
  ]
}